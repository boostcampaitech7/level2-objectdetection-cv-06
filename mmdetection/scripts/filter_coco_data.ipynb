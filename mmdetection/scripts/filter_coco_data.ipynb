{
 "cells": [
  {
   "cell_type": "code",
   "execution_count": 1,
   "metadata": {},
   "outputs": [],
   "source": [
    "import json\n",
    "import os\n",
    "from tqdm import tqdm\n",
    "\n",
    "def filter_coco_data(json_file, max_annotations):\n",
    "    # train.json 파일 열기\n",
    "    with open(json_file, 'r') as f:\n",
    "        data = json.load(f)\n",
    "\n",
    "    # 이미지별 annotation 수를 계산하기 위한 딕셔너리 생성\n",
    "    annotation_count_per_image = {image['id']: 0 for image in data['images']}\n",
    "\n",
    "    # 각 이미지의 annotation 수 계산\n",
    "    for annotation in data['annotations']:\n",
    "        image_id = annotation['image_id']\n",
    "        annotation_count_per_image[image_id] += 1\n",
    "\n",
    "    # annotation이 max_annotations 이하인 이미지를 필터링\n",
    "    filtered_images = [image for image in data['images'] if annotation_count_per_image[image['id']] <= max_annotations]\n",
    "\n",
    "    # 해당 이미지들의 id를 저장\n",
    "    filtered_image_ids = {image['id'] for image in filtered_images}\n",
    "\n",
    "    # 필터링된 이미지 id에 해당하는 annotation만 저장\n",
    "    filtered_annotations = [annotation for annotation in data['annotations'] if annotation['image_id'] in filtered_image_ids]\n",
    "\n",
    "    # 필터링된 데이터를 새로운 json 구조로 저장\n",
    "    filtered_data = {\n",
    "        'images': filtered_images,\n",
    "        'annotations': filtered_annotations,\n",
    "        'categories': data['categories'],\n",
    "        'licenses': data.get('licenses', []),\n",
    "        'info': data.get('info', {}),\n",
    "    }\n",
    "\n",
    "    # 저장 경로 설정 (../../../dataset/filtered/ 폴더 생성)\n",
    "    output_dir = '../../../dataset/json/filtered'\n",
    "    os.makedirs(output_dir, exist_ok=True)  # 폴더가 없으면 생성\n",
    "\n",
    "    # 파일 이름을 filtered_{max_annotations}_train.json 형식으로 지정\n",
    "    output_file = os.path.join(output_dir, f'filtered_{max_annotations}_train.json')\n",
    "\n",
    "    # 새로운 파일로 저장\n",
    "    with open(output_file, 'w') as f:\n",
    "        json.dump(filtered_data, f, indent=4)\n",
    "\n",
    "    print(f\"Filtered dataset saved to {output_file}\")"
   ]
  },
  {
   "cell_type": "code",
   "execution_count": 3,
   "metadata": {},
   "outputs": [
    {
     "name": "stdout",
     "output_type": "stream",
     "text": [
      "Filtered dataset saved to ../../../dataset/filtered/filtered_40_train.json\n"
     ]
    }
   ],
   "source": [
    "# filter_coco_data('train.json 경로', max_annotations: int)\n",
    "# train.json 파일에서 N개 이상의 annotation을 가진 이미지를 필터링하여 filtered_N_train.json 파일로 저장\n",
    "filter_coco_data('../../../dataset/json/train.json', 40)"
   ]
  }
 ],
 "metadata": {
  "kernelspec": {
   "display_name": "base",
   "language": "python",
   "name": "python3"
  },
  "language_info": {
   "codemirror_mode": {
    "name": "ipython",
    "version": 3
   },
   "file_extension": ".py",
   "mimetype": "text/x-python",
   "name": "python",
   "nbconvert_exporter": "python",
   "pygments_lexer": "ipython3",
   "version": "3.10.13"
  }
 },
 "nbformat": 4,
 "nbformat_minor": 2
}
